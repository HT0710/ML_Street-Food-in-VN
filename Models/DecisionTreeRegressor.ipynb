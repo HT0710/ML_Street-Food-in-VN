{
 "cells": [
  {
   "cell_type": "code",
   "execution_count": 31,
   "outputs": [],
   "source": [
    "from modules import DATA_PROCESSING, METHODS\n",
    "import pandas as pd\n",
    "\n",
    "dp = DATA_PROCESSING(\"../data_share.csv\")\n",
    "data = pd.DataFrame(dp.mdmi())"
   ],
   "metadata": {
    "collapsed": false
   }
  },
  {
   "cell_type": "code",
   "execution_count": 32,
   "outputs": [],
   "source": [
    "from sklearn.model_selection import train_test_split\n",
    "\n",
    "PC = METHODS()\n",
    "\n",
    "def run(dataset, algorithm, x: int):\n",
    "    features = dataset.iloc[:, 1:]\n",
    "    labels = dataset.iloc[:, 0]\n",
    "    # print(labels.shape, Counter(labels))\n",
    "\n",
    "    X_train, X_test, y_train, y_test = train_test_split(features, labels, test_size=0.2)\n",
    "    # print(\"Test size: \", y_test.shape)\n",
    "\n",
    "    X_train, X_test, scaler = PC.scaling(X_train, X_test, x)\n",
    "\n",
    "    algorithm.fit(X_train, y_train)\n",
    "\n",
    "    y_pred = algorithm.predict(X_test)\n",
    "    return y_test, y_pred, scaler"
   ],
   "metadata": {
    "collapsed": false
   }
  },
  {
   "cell_type": "code",
   "execution_count": 33,
   "outputs": [
    {
     "name": "stdout",
     "output_type": "stream",
     "text": [
      "Best Scaler:  MaxAbsScaler()\n",
      "Score:  0.5174659488666529\n"
     ]
    }
   ],
   "source": [
    "from sklearn.tree import DecisionTreeRegressor\n",
    "from sklearn.metrics import r2_score\n",
    "import numpy as np\n",
    "import math\n",
    "\n",
    "model = DecisionTreeRegressor\n",
    "times = 100\n",
    "\n",
    "best_score = -math.inf\n",
    "best_scaler = \"\"\n",
    "\n",
    "for i in range(6):\n",
    "    container = []\n",
    "    for j in range(times):\n",
    "        test, pred, scaler = run(data, model, i)\n",
    "        score = r2_score(test, pred)\n",
    "        container.append(score)\n",
    "\n",
    "    new_score = np.mean(container)\n",
    "    if new_score > best_score:\n",
    "        best_score = new_score\n",
    "        best_scaler = scaler\n",
    "\n",
    "print(\"Best Scaler: \", best_scaler)\n",
    "print(\"Score: \", best_score)"
   ],
   "metadata": {
    "collapsed": false
   }
  }
 ],
 "metadata": {
  "kernelspec": {
   "display_name": "Python 3",
   "language": "python",
   "name": "python3"
  },
  "language_info": {
   "codemirror_mode": {
    "name": "ipython",
    "version": 2
   },
   "file_extension": ".py",
   "mimetype": "text/x-python",
   "name": "python",
   "nbconvert_exporter": "python",
   "pygments_lexer": "ipython2",
   "version": "2.7.6"
  }
 },
 "nbformat": 4,
 "nbformat_minor": 0
}
